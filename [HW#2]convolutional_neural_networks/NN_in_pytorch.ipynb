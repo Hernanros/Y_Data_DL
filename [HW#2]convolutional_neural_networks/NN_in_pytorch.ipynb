{
  "nbformat": 4,
  "nbformat_minor": 0,
  "metadata": {
    "kernelspec": {
      "display_name": "Python 3",
      "language": "python",
      "name": "python3"
    },
    "language_info": {
      "codemirror_mode": {
        "name": "ipython",
        "version": 3
      },
      "file_extension": ".py",
      "mimetype": "text/x-python",
      "name": "python",
      "nbconvert_exporter": "python",
      "pygments_lexer": "ipython3",
      "version": "3.7.3"
    },
    "colab": {
      "name": "NN_in_pytorch.ipynb",
      "provenance": [],
      "include_colab_link": true
    },
    "widgets": {
      "application/vnd.jupyter.widget-state+json": {
        "bdebf55b2a224db5ba5233b49d7e99f5": {
          "model_module": "@jupyter-widgets/controls",
          "model_name": "HBoxModel",
          "state": {
            "_view_name": "HBoxView",
            "_dom_classes": [],
            "_model_name": "HBoxModel",
            "_view_module": "@jupyter-widgets/controls",
            "_model_module_version": "1.5.0",
            "_view_count": null,
            "_view_module_version": "1.5.0",
            "box_style": "",
            "layout": "IPY_MODEL_d1d798d77e304ad88eee73143ea37bef",
            "_model_module": "@jupyter-widgets/controls",
            "children": [
              "IPY_MODEL_55e9a18eadaf49409ff3f8b7b99f34e9",
              "IPY_MODEL_7cf04be194084332a59f1e93a0d79654"
            ]
          }
        },
        "d1d798d77e304ad88eee73143ea37bef": {
          "model_module": "@jupyter-widgets/base",
          "model_name": "LayoutModel",
          "state": {
            "_view_name": "LayoutView",
            "grid_template_rows": null,
            "right": null,
            "justify_content": null,
            "_view_module": "@jupyter-widgets/base",
            "overflow": null,
            "_model_module_version": "1.2.0",
            "_view_count": null,
            "flex_flow": null,
            "width": null,
            "min_width": null,
            "border": null,
            "align_items": null,
            "bottom": null,
            "_model_module": "@jupyter-widgets/base",
            "top": null,
            "grid_column": null,
            "overflow_y": null,
            "overflow_x": null,
            "grid_auto_flow": null,
            "grid_area": null,
            "grid_template_columns": null,
            "flex": null,
            "_model_name": "LayoutModel",
            "justify_items": null,
            "grid_row": null,
            "max_height": null,
            "align_content": null,
            "visibility": null,
            "align_self": null,
            "height": null,
            "min_height": null,
            "padding": null,
            "grid_auto_rows": null,
            "grid_gap": null,
            "max_width": null,
            "order": null,
            "_view_module_version": "1.2.0",
            "grid_template_areas": null,
            "object_position": null,
            "object_fit": null,
            "grid_auto_columns": null,
            "margin": null,
            "display": null,
            "left": null
          }
        },
        "55e9a18eadaf49409ff3f8b7b99f34e9": {
          "model_module": "@jupyter-widgets/controls",
          "model_name": "IntProgressModel",
          "state": {
            "_view_name": "ProgressView",
            "style": "IPY_MODEL_51dcfdb1b20f4e6fb9be9960725a9f65",
            "_dom_classes": [],
            "description": "",
            "_model_name": "IntProgressModel",
            "bar_style": "success",
            "max": 1,
            "_view_module": "@jupyter-widgets/controls",
            "_model_module_version": "1.5.0",
            "value": 1,
            "_view_count": null,
            "_view_module_version": "1.5.0",
            "orientation": "horizontal",
            "min": 0,
            "description_tooltip": null,
            "_model_module": "@jupyter-widgets/controls",
            "layout": "IPY_MODEL_aea43bfcfcf4405dab3ee9baca1ee1db"
          }
        },
        "7cf04be194084332a59f1e93a0d79654": {
          "model_module": "@jupyter-widgets/controls",
          "model_name": "HTMLModel",
          "state": {
            "_view_name": "HTMLView",
            "style": "IPY_MODEL_eeadb5ca3367450f94ec8722d2e160db",
            "_dom_classes": [],
            "description": "",
            "_model_name": "HTMLModel",
            "placeholder": "​",
            "_view_module": "@jupyter-widgets/controls",
            "_model_module_version": "1.5.0",
            "value": "170500096it [00:02, 72970985.92it/s]",
            "_view_count": null,
            "_view_module_version": "1.5.0",
            "description_tooltip": null,
            "_model_module": "@jupyter-widgets/controls",
            "layout": "IPY_MODEL_65290ed758de49f282ef4fbb35eb109d"
          }
        },
        "51dcfdb1b20f4e6fb9be9960725a9f65": {
          "model_module": "@jupyter-widgets/controls",
          "model_name": "ProgressStyleModel",
          "state": {
            "_view_name": "StyleView",
            "_model_name": "ProgressStyleModel",
            "description_width": "",
            "_view_module": "@jupyter-widgets/base",
            "_model_module_version": "1.5.0",
            "_view_count": null,
            "_view_module_version": "1.2.0",
            "bar_color": null,
            "_model_module": "@jupyter-widgets/controls"
          }
        },
        "aea43bfcfcf4405dab3ee9baca1ee1db": {
          "model_module": "@jupyter-widgets/base",
          "model_name": "LayoutModel",
          "state": {
            "_view_name": "LayoutView",
            "grid_template_rows": null,
            "right": null,
            "justify_content": null,
            "_view_module": "@jupyter-widgets/base",
            "overflow": null,
            "_model_module_version": "1.2.0",
            "_view_count": null,
            "flex_flow": null,
            "width": null,
            "min_width": null,
            "border": null,
            "align_items": null,
            "bottom": null,
            "_model_module": "@jupyter-widgets/base",
            "top": null,
            "grid_column": null,
            "overflow_y": null,
            "overflow_x": null,
            "grid_auto_flow": null,
            "grid_area": null,
            "grid_template_columns": null,
            "flex": null,
            "_model_name": "LayoutModel",
            "justify_items": null,
            "grid_row": null,
            "max_height": null,
            "align_content": null,
            "visibility": null,
            "align_self": null,
            "height": null,
            "min_height": null,
            "padding": null,
            "grid_auto_rows": null,
            "grid_gap": null,
            "max_width": null,
            "order": null,
            "_view_module_version": "1.2.0",
            "grid_template_areas": null,
            "object_position": null,
            "object_fit": null,
            "grid_auto_columns": null,
            "margin": null,
            "display": null,
            "left": null
          }
        },
        "eeadb5ca3367450f94ec8722d2e160db": {
          "model_module": "@jupyter-widgets/controls",
          "model_name": "DescriptionStyleModel",
          "state": {
            "_view_name": "StyleView",
            "_model_name": "DescriptionStyleModel",
            "description_width": "",
            "_view_module": "@jupyter-widgets/base",
            "_model_module_version": "1.5.0",
            "_view_count": null,
            "_view_module_version": "1.2.0",
            "_model_module": "@jupyter-widgets/controls"
          }
        },
        "65290ed758de49f282ef4fbb35eb109d": {
          "model_module": "@jupyter-widgets/base",
          "model_name": "LayoutModel",
          "state": {
            "_view_name": "LayoutView",
            "grid_template_rows": null,
            "right": null,
            "justify_content": null,
            "_view_module": "@jupyter-widgets/base",
            "overflow": null,
            "_model_module_version": "1.2.0",
            "_view_count": null,
            "flex_flow": null,
            "width": null,
            "min_width": null,
            "border": null,
            "align_items": null,
            "bottom": null,
            "_model_module": "@jupyter-widgets/base",
            "top": null,
            "grid_column": null,
            "overflow_y": null,
            "overflow_x": null,
            "grid_auto_flow": null,
            "grid_area": null,
            "grid_template_columns": null,
            "flex": null,
            "_model_name": "LayoutModel",
            "justify_items": null,
            "grid_row": null,
            "max_height": null,
            "align_content": null,
            "visibility": null,
            "align_self": null,
            "height": null,
            "min_height": null,
            "padding": null,
            "grid_auto_rows": null,
            "grid_gap": null,
            "max_width": null,
            "order": null,
            "_view_module_version": "1.2.0",
            "grid_template_areas": null,
            "object_position": null,
            "object_fit": null,
            "grid_auto_columns": null,
            "margin": null,
            "display": null,
            "left": null
          }
        }
      }
    }
  },
  "cells": [
    {
      "cell_type": "markdown",
      "metadata": {
        "id": "view-in-github",
        "colab_type": "text"
      },
      "source": [
        "<a href=\"https://colab.research.google.com/github/Hernanros/Y_Data_DL/blob/HW%232-answers/%5BHW%232%5Dconvolutional_neural_networks/NN_in_pytorch.ipynb\" target=\"_parent\"><img src=\"https://colab.research.google.com/assets/colab-badge.svg\" alt=\"Open In Colab\"/></a>"
      ]
    },
    {
      "cell_type": "markdown",
      "metadata": {
        "id": "eG8kOT69X-_f",
        "colab_type": "text"
      },
      "source": [
        "# Neural Network using PyTorch"
      ]
    },
    {
      "cell_type": "markdown",
      "metadata": {
        "id": "BupHlXPrX-_i",
        "colab_type": "text"
      },
      "source": [
        "In this exercise, you will build a neural network using PyTorch, and apply it to a dataset. Our goal in this exercise is not necessarily to obtain the best results on the dataset. We care more about understanding the different parameters, getting a hands-on experience training networks, and monitoring and debugging them. For this reason, I actually recommend that you don’t use a GPU, and run the code on your local machine, for simpler debugging.\n",
        "\n",
        "\n",
        "You can get relevant code snippets from [the PyTorch documentation](https://pytorch.org/tutorials/beginner/blitz/cifar10_tutorial.html) or other sources online. "
      ]
    },
    {
      "cell_type": "code",
      "metadata": {
        "id": "SKxZkWPiGpGi",
        "colab_type": "code",
        "colab": {
          "base_uri": "https://localhost:8080/",
          "height": 136
        },
        "outputId": "ddf513a9-6986-4276-926a-6dace6e223ee"
      },
      "source": [
        "! git clone https://github.com/Hernanros/Y_data_DL DL"
      ],
      "execution_count": 1,
      "outputs": [
        {
          "output_type": "stream",
          "text": [
            "Cloning into 'DL'...\n",
            "remote: Enumerating objects: 8, done.\u001b[K\n",
            "remote: Counting objects:  12% (1/8)\u001b[K\rremote: Counting objects:  25% (2/8)\u001b[K\rremote: Counting objects:  37% (3/8)\u001b[K\rremote: Counting objects:  50% (4/8)\u001b[K\rremote: Counting objects:  62% (5/8)\u001b[K\rremote: Counting objects:  75% (6/8)\u001b[K\rremote: Counting objects:  87% (7/8)\u001b[K\rremote: Counting objects: 100% (8/8)\u001b[K\rremote: Counting objects: 100% (8/8), done.\u001b[K\n",
            "remote: Compressing objects: 100% (8/8), done.\u001b[K\n",
            "remote: Total 107 (delta 3), reused 0 (delta 0), pack-reused 99\u001b[K\n",
            "Receiving objects: 100% (107/107), 182.93 MiB | 33.68 MiB/s, done.\n",
            "Resolving deltas: 100% (16/16), done.\n"
          ],
          "name": "stdout"
        }
      ]
    },
    {
      "cell_type": "code",
      "metadata": {
        "id": "waTV-YoKG3Us",
        "colab_type": "code",
        "colab": {
          "base_uri": "https://localhost:8080/",
          "height": 51
        },
        "outputId": "052a2b41-9221-4307-eb11-6ddc0cac910b"
      },
      "source": [
        "% cd /content/DL/[HW#2]convolutional_neural_networks"
      ],
      "execution_count": 13,
      "outputs": [
        {
          "output_type": "stream",
          "text": [
            "[Errno 2] No such file or directory: '/root/DL/[HW#2]convolutional_neural_networks'\n",
            "/content/DL/[HW#2]convolutional_neural_networks\n"
          ],
          "name": "stdout"
        }
      ]
    },
    {
      "cell_type": "code",
      "metadata": {
        "id": "mui9W5KQHX9_",
        "colab_type": "code",
        "colab": {
          "base_uri": "https://localhost:8080/",
          "height": 34
        },
        "outputId": "a3086bfd-e63d-49b9-8cda-3db087197a07"
      },
      "source": [
        "!pwd"
      ],
      "execution_count": 14,
      "outputs": [
        {
          "output_type": "stream",
          "text": [
            "/content/DL/[HW#2]convolutional_neural_networks\n"
          ],
          "name": "stdout"
        }
      ]
    },
    {
      "cell_type": "markdown",
      "metadata": {
        "id": "7-WlUyTLX-_j",
        "colab_type": "text"
      },
      "source": [
        "## Dataset\n",
        "We will use the CIFAR-10 dataset."
      ]
    },
    {
      "cell_type": "code",
      "metadata": {
        "ExecuteTime": {
          "end_time": "2020-03-12T03:22:05.577442Z",
          "start_time": "2020-03-12T03:22:04.944943Z"
        },
        "id": "MHYHos4TX-_k",
        "colab_type": "code",
        "colab": {}
      },
      "source": [
        "import torch\n",
        "import torchvision\n",
        "import torchvision.transforms as transforms\n",
        "%matplotlib inline"
      ],
      "execution_count": 0,
      "outputs": []
    },
    {
      "cell_type": "code",
      "metadata": {
        "ExecuteTime": {
          "end_time": "2020-03-12T03:22:07.447520Z",
          "start_time": "2020-03-12T03:22:05.580433Z"
        },
        "id": "BZbGibCRX-_p",
        "colab_type": "code",
        "outputId": "426ff7eb-4721-4af5-cc5d-02495eeea7be",
        "colab": {
          "base_uri": "https://localhost:8080/",
          "height": 117,
          "referenced_widgets": [
            "bdebf55b2a224db5ba5233b49d7e99f5",
            "d1d798d77e304ad88eee73143ea37bef",
            "55e9a18eadaf49409ff3f8b7b99f34e9",
            "7cf04be194084332a59f1e93a0d79654",
            "51dcfdb1b20f4e6fb9be9960725a9f65",
            "aea43bfcfcf4405dab3ee9baca1ee1db",
            "eeadb5ca3367450f94ec8722d2e160db",
            "65290ed758de49f282ef4fbb35eb109d"
          ]
        }
      },
      "source": [
        "transform = transforms.Compose(\n",
        "    [transforms.ToTensor(),\n",
        "     transforms.Normalize((0.5, 0.5, 0.5), (0.5, 0.5, 0.5))])\n",
        "\n",
        "trainset = torchvision.datasets.CIFAR10(root='./data', train=True,\n",
        "                                        download=True, transform=transform)\n",
        "trainloader = torch.utils.data.DataLoader(trainset, batch_size=4,\n",
        "                                          shuffle=True, num_workers=2)\n",
        "\n",
        "testset = torchvision.datasets.CIFAR10(root='./data', train=False,\n",
        "                                       download=True, transform=transform)\n",
        "testloader = torch.utils.data.DataLoader(testset, batch_size=4,\n",
        "                                         shuffle=False, num_workers=2)\n",
        "\n",
        "classes = ('plane', 'car', 'bird', 'cat',\n",
        "           'deer', 'dog', 'frog', 'horse', 'ship', 'truck')"
      ],
      "execution_count": 16,
      "outputs": [
        {
          "output_type": "stream",
          "text": [
            "Downloading https://www.cs.toronto.edu/~kriz/cifar-10-python.tar.gz to ./data/cifar-10-python.tar.gz\n"
          ],
          "name": "stdout"
        },
        {
          "output_type": "display_data",
          "data": {
            "application/vnd.jupyter.widget-view+json": {
              "model_id": "bdebf55b2a224db5ba5233b49d7e99f5",
              "version_minor": 0,
              "version_major": 2
            },
            "text/plain": [
              "HBox(children=(IntProgress(value=1, bar_style='info', max=1), HTML(value='')))"
            ]
          },
          "metadata": {
            "tags": []
          }
        },
        {
          "output_type": "stream",
          "text": [
            "\n",
            "Extracting ./data/cifar-10-python.tar.gz to ./data\n",
            "Files already downloaded and verified\n"
          ],
          "name": "stdout"
        }
      ]
    },
    {
      "cell_type": "markdown",
      "metadata": {
        "id": "573Jn2r3X-_0",
        "colab_type": "text"
      },
      "source": [
        "First, let's get to know the dataset. Plot a few examples of images and their labels:\n"
      ]
    },
    {
      "cell_type": "code",
      "metadata": {
        "ExecuteTime": {
          "end_time": "2020-03-12T03:22:13.183638Z",
          "start_time": "2020-03-12T03:22:10.191153Z"
        },
        "id": "kp-juMMdX-_2",
        "colab_type": "code",
        "outputId": "5c97bcbd-cdbd-4730-f9d4-ed9c950cadc0",
        "colab": {
          "base_uri": "https://localhost:8080/",
          "height": 155
        }
      },
      "source": [
        "import matplotlib.pyplot as plt\n",
        "import numpy as np\n",
        "\n",
        "# functions to show an image\n",
        "\n",
        "\n",
        "def imshow(img):\n",
        "    img = img / 2 + 0.5     # unnormalize\n",
        "    npimg = img.numpy()\n",
        "    plt.imshow(np.transpose(npimg, (1, 2, 0)))\n",
        "    plt.show()\n",
        "\n",
        "\n",
        "# get some random training images\n",
        "dataiter = iter(trainloader)\n",
        "images, labels = dataiter.next()\n",
        "\n",
        "# show images\n",
        "imshow(torchvision.utils.make_grid(images))\n",
        "# print labels\n",
        "print(' '.join('%5s' % classes[labels[j]] for j in range(4)))"
      ],
      "execution_count": 20,
      "outputs": [
        {
          "output_type": "display_data",
          "data": {
            "image/png": "[encoded data removed]",
            "text/plain": [
              "<Figure size 432x288 with 1 Axes>"
            ]
          },
          "metadata": {
            "tags": []
          }
        },
        {
          "output_type": "stream",
          "text": [
            " bird plane  ship  frog\n"
          ],
          "name": "stdout"
        }
      ]
    },
    {
      "cell_type": "markdown",
      "metadata": {
        "id": "llpA-VqDX-_9",
        "colab_type": "text"
      },
      "source": [
        "Display the distribution of images per label."
      ]
    },
    {
      "cell_type": "code",
      "metadata": {
        "ExecuteTime": {
          "end_time": "2020-03-12T03:22:13.668056Z",
          "start_time": "2020-03-12T03:22:13.185607Z"
        },
        "id": "kUaIVQWsX-__",
        "colab_type": "code",
        "colab": {}
      },
      "source": [
        "dataiter = iter(trainloader)\n",
        "\n",
        "identitiy_dic={i: clas for i,clas in enumerate(classes)}\n",
        "\n",
        "counter={clas:0 for clas in classes}\n",
        "\n",
        "for pic in range(len(trainset)):\n",
        "  counter[identitiy_dic[trainset[pic][-1]]] +=1"
      ],
      "execution_count": 0,
      "outputs": []
    },
    {
      "cell_type": "code",
      "metadata": {
        "id": "mSU4Nu6YN0XH",
        "colab_type": "code",
        "colab": {
          "base_uri": "https://localhost:8080/",
          "height": 187
        },
        "outputId": "dc58d1f7-b9a9-4b51-ebbc-b47f6f3f1a9b"
      },
      "source": [
        "counter"
      ],
      "execution_count": 40,
      "outputs": [
        {
          "output_type": "execute_result",
          "data": {
            "text/plain": [
              "{'bird': 5000,\n",
              " 'car': 5000,\n",
              " 'cat': 5000,\n",
              " 'deer': 5000,\n",
              " 'dog': 5000,\n",
              " 'frog': 5000,\n",
              " 'horse': 5000,\n",
              " 'plane': 5000,\n",
              " 'ship': 5000,\n",
              " 'truck': 5000}"
            ]
          },
          "metadata": {
            "tags": []
          },
          "execution_count": 40
        }
      ]
    },
    {
      "cell_type": "markdown",
      "metadata": {
        "id": "ghQzVffxX_AH",
        "colab_type": "text"
      },
      "source": [
        "Is the data balanced? What effect is imbalanced data expected to have on your model's results? How can you work with imbalanced data?"
      ]
    },
    {
      "cell_type": "markdown",
      "metadata": {
        "id": "DwelTnOAOSsN",
        "colab_type": "text"
      },
      "source": [
        "**A:** Yes, absolutely. If the data was imbalanced, there would be a higher bias towards higher frequency categories. \n",
        "\n",
        "To deal with imbalanced you can:<br><br>\n",
        "\n",
        "1) Use a different scoring metric. Instead of accuracy, you can use Recall. <br><br>\n",
        "2) Label Smoothing might help as a regulizer.<br><br>\n",
        "3) We can artifically subsample a balanced dataset from the whole [assuming we have enough data]<br><br>\n",
        "4) Theoretically, we can implement a form of data augementation, where we take the category that has lower frequency and manipulate it so artifically create more examples."
      ]
    },
    {
      "cell_type": "markdown",
      "metadata": {
        "id": "Ebu1tr4bX_AN",
        "colab_type": "text"
      },
      "source": [
        "**NOTE:** It's a good practice when working on Neural Networks to start with a very small dataset and overfit on it. While we don't specifically ask you to do so in the sections below, we recommend that you take this approach, and first write and run your code using easy to use and debug platform, on a small dataset."
      ]
    },
    {
      "cell_type": "code",
      "metadata": {
        "id": "OQJKAJueX_AP",
        "colab_type": "code",
        "colab": {}
      },
      "source": [
        ""
      ],
      "execution_count": 0,
      "outputs": []
    },
    {
      "cell_type": "markdown",
      "metadata": {
        "id": "UGuFZO_IX_AZ",
        "colab_type": "text"
      },
      "source": [
        "## Build your own CNN classifier\n",
        "In this section, you will develop your own CNN classifier.\n",
        "\n",
        "This is meant as an opportunity to get more experience building your own NN architectures using PyTorch, and our focus is on making sure you rewrite and review the needed code and not on obtaining optimal performance. That being said, within the limits of the time you have, try to come up with a NN architecture and hyperparameters that would achieve nice results on the dataset.  \n",
        "We do recommend that you keep this to only 3-4 Conv layers and 1-2 fully connected layers."
      ]
    },
    {
      "cell_type": "markdown",
      "metadata": {
        "id": "D--MnM8xX_Ab",
        "colab_type": "text"
      },
      "source": [
        "If you want a starting point, you can create this network:\n",
        "\n",
        "```\n",
        "Net(\n",
        "  (conv1): Conv2d(3, 6, kernel_size=(5, 5), stride=(1, 1))\n",
        "  (pool): MaxPool2d(kernel_size=2, stride=2, padding=0, dilation=1, ceil_mode=False)\n",
        "  (conv2): Conv2d(6, 16, kernel_size=(5, 5), stride=(1, 1))\n",
        "  (fc1): Linear(in_features=400, out_features=120, bias=True)\n",
        "  (fc2): Linear(in_features=120, out_features=84, bias=True)\n",
        "  (fc3): Linear(in_features=84, out_features=10, bias=True)\n",
        ")\n",
        "```"
      ]
    },
    {
      "cell_type": "markdown",
      "metadata": {
        "id": "I0kQ5MPSX_Ac",
        "colab_type": "text"
      },
      "source": [
        "When training the network, use the Adam optimizer."
      ]
    },
    {
      "cell_type": "code",
      "metadata": {
        "ExecuteTime": {
          "end_time": "2020-03-12T03:22:14.105625Z",
          "start_time": "2020-03-12T03:22:14.096637Z"
        },
        "id": "DxfphSv3X_Af",
        "colab_type": "code",
        "colab": {}
      },
      "source": [
        ""
      ],
      "execution_count": 0,
      "outputs": []
    },
    {
      "cell_type": "code",
      "metadata": {
        "ExecuteTime": {
          "end_time": "2020-03-12T03:22:14.719122Z",
          "start_time": "2020-03-12T03:22:14.715095Z"
        },
        "id": "6VfROok-X_Ar",
        "colab_type": "code",
        "colab": {}
      },
      "source": [
        ""
      ],
      "execution_count": 0,
      "outputs": []
    },
    {
      "cell_type": "markdown",
      "metadata": {
        "id": "robhUyZpX_Aw",
        "colab_type": "text"
      },
      "source": [
        "## Tensorboard\n",
        "TensorBoard provides visualization and tooling for machine learning experimentation:\n",
        "- Tracking and visualizing metrics such as loss and accuracy\n",
        "- Visualizing the model graph (ops and layers)\n",
        "- Viewing histograms of weights, biases, or other tensors as they change over time\n",
        "- Projecting embeddings to a lower dimensional space\n",
        "- Displaying images, text, and audio data\n",
        "- Profiling programs\n",
        "\n",
        "Tensorboard worked originally with Tensorflow but can now be used with PyTorch as well.  \n",
        "You can embed a tensorboard widget in a Jupyter Notebook, although if you're not using Google Colab we recommend that you open tensorboard separately."
      ]
    },
    {
      "cell_type": "markdown",
      "metadata": {
        "id": "npxxePhjX_Ay",
        "colab_type": "text"
      },
      "source": [
        "To get started with Tensorboard, please read the following pages:\n",
        "\n",
        "PyTorch related:\n",
        "1. https://pytorch.org/tutorials/intermediate/tensorboard_tutorial.html\n",
        "1. https://becominghuman.ai/logging-in-tensorboard-with-pytorch-or-any-other-library-c549163dee9e\n",
        "1. https://towardsdatascience.com/https-medium-com-dinber19-take-a-deeper-look-at-your-pytorch-model-with-the-new-tensorboard-built-in-513969cf6a72\n",
        "1. https://pytorch.org/docs/stable/tensorboard.html\n",
        "1. https://github.com/yunjey/pytorch-tutorial/tree/master/tutorials/04-utils/tensorboard\n",
        "\n",
        "Tensorflow related:\n",
        "1. https://itnext.io/how-to-use-tensorboard-5d82f8654496\n",
        "1. https://www.datacamp.com/community/tutorials/tensorboard-tutorial\n",
        "1. https://medium.com/@anthony_sarkis/tensorboard-quick-start-in-5-minutes-e3ec69f673af\n",
        "1. https://www.guru99.com/tensorboard-tutorial.html\n",
        "1. https://www.youtube.com/watch?time_continue=1&v=s-lHP8v9qzY&feature=emb_logo\n",
        "1. https://www.youtube.com/watch?v=pSexXMdruFM\n"
      ]
    },
    {
      "cell_type": "markdown",
      "metadata": {
        "id": "Uh8UW3cDX_A1",
        "colab_type": "text"
      },
      "source": [
        "### Starting Tensorboard\n",
        "Jupyter Notebook has extensions for displaying TensorBoard inside the notebook. Still, I recommend that you run it separately, as it tends to get stuck in notebooks.\n",
        "\n",
        "The syntax to load TensorBoard in a notebook is this:\n",
        "```python\n",
        "# Load the TensorBoard notebook extension\n",
        "%load_ext tensorboard\n",
        "%tensorboard --logdir ./logs\n",
        "```"
      ]
    },
    {
      "cell_type": "markdown",
      "metadata": {
        "id": "qtfO42DuX_A2",
        "colab_type": "text"
      },
      "source": [
        "In the shell, you can instead run:\n",
        "```\n",
        "tensorboard --logdir ./logs\n",
        "```"
      ]
    },
    {
      "cell_type": "code",
      "metadata": {
        "ExecuteTime": {
          "end_time": "2020-03-12T03:22:21.503129Z",
          "start_time": "2020-03-12T03:22:18.807319Z"
        },
        "id": "J43PQOI0X_A3",
        "colab_type": "code",
        "colab": {}
      },
      "source": [
        ""
      ],
      "execution_count": 0,
      "outputs": []
    },
    {
      "cell_type": "markdown",
      "metadata": {
        "id": "yE-8NyKRX_A7",
        "colab_type": "text"
      },
      "source": [
        "### Show images using TensorBoard"
      ]
    },
    {
      "cell_type": "code",
      "metadata": {
        "ExecuteTime": {
          "end_time": "2020-03-12T03:22:25.305404Z",
          "start_time": "2020-03-12T03:22:22.367810Z"
        },
        "id": "CBN6TWT2X_A8",
        "colab_type": "code",
        "colab": {}
      },
      "source": [
        ""
      ],
      "execution_count": 0,
      "outputs": []
    },
    {
      "cell_type": "markdown",
      "metadata": {
        "id": "763K_iP5X_A_",
        "colab_type": "text"
      },
      "source": [
        "### Inspect the model graph\n",
        "You can print a network object to find useful information about it:"
      ]
    },
    {
      "cell_type": "code",
      "metadata": {
        "ExecuteTime": {
          "end_time": "2020-03-12T03:39:13.437035Z",
          "start_time": "2020-03-12T03:39:13.433000Z"
        },
        "id": "xh6omz2dX_BA",
        "colab_type": "code",
        "colab": {}
      },
      "source": [
        "print(net)"
      ],
      "execution_count": 0,
      "outputs": []
    },
    {
      "cell_type": "markdown",
      "metadata": {
        "id": "5MmKPL2RX_BI",
        "colab_type": "text"
      },
      "source": [
        "TensorBoard can help visualize the network graph. It takes practice to read these.  \n",
        "\n",
        "Write the graph to TensorBoard and review it."
      ]
    },
    {
      "cell_type": "code",
      "metadata": {
        "ExecuteTime": {
          "end_time": "2020-03-12T03:22:27.132650Z",
          "start_time": "2020-03-12T03:22:27.080267Z"
        },
        "id": "M3f0VHKKX_BK",
        "colab_type": "code",
        "colab": {}
      },
      "source": [
        ""
      ],
      "execution_count": 0,
      "outputs": []
    },
    {
      "cell_type": "markdown",
      "metadata": {
        "id": "5UcxdV1BX_BQ",
        "colab_type": "text"
      },
      "source": [
        "You can also use the package `torchsummary` for a fuller info on the model:"
      ]
    },
    {
      "cell_type": "code",
      "metadata": {
        "ExecuteTime": {
          "end_time": "2020-03-12T03:39:34.927085Z",
          "start_time": "2020-03-12T03:39:30.883979Z"
        },
        "id": "7K0r3-LgX_BR",
        "colab_type": "code",
        "outputId": "484ad426-6305-4dbe-d0dd-1b89ea90c872",
        "colab": {}
      },
      "source": [
        "!pip install torchsummary"
      ],
      "execution_count": 0,
      "outputs": [
        {
          "output_type": "stream",
          "text": [
            "Collecting torchsummary\n",
            "  Downloading https://files.pythonhosted.org/packages/7d/18/1474d06f721b86e6a9b9d7392ad68bed711a02f3b61ac43f13c719db50a6/torchsummary-1.5.1-py3-none-any.whl\n",
            "Installing collected packages: torchsummary\n",
            "Successfully installed torchsummary-1.5.1\n"
          ],
          "name": "stdout"
        }
      ]
    },
    {
      "cell_type": "code",
      "metadata": {
        "ExecuteTime": {
          "end_time": "2020-03-12T03:40:32.330002Z",
          "start_time": "2020-03-12T03:40:32.304145Z"
        },
        "id": "915iWYS-X_BZ",
        "colab_type": "code",
        "colab": {}
      },
      "source": [
        "channels=3; H=32; W=32\n",
        "from torchsummary import summary\n",
        "summary(net, input_size=(channels, H, W))"
      ],
      "execution_count": 0,
      "outputs": []
    },
    {
      "cell_type": "markdown",
      "metadata": {
        "id": "N93kZXGgX_Bc",
        "colab_type": "text"
      },
      "source": [
        "## Train the network\n",
        "Next, we'll train the network. In the training loop, log relevant metrics that would allow you to plot in TensorBoard:"
      ]
    },
    {
      "cell_type": "markdown",
      "metadata": {
        "id": "I7b5fBzpX_Bd",
        "colab_type": "text"
      },
      "source": [
        "1. The network loss\n",
        "1. Train and test error\n",
        "1. Average weight in the first layer\n",
        "1. Histogram of weights in the first layer"
      ]
    },
    {
      "cell_type": "code",
      "metadata": {
        "ExecuteTime": {
          "end_time": "2020-03-12T02:25:56.483936Z",
          "start_time": "2020-03-12T02:17:35.780050Z"
        },
        "id": "r1j3bbrWX_Be",
        "colab_type": "code",
        "colab": {}
      },
      "source": [
        ""
      ],
      "execution_count": 0,
      "outputs": []
    },
    {
      "cell_type": "markdown",
      "metadata": {
        "id": "GUXarpO0X_Bi",
        "colab_type": "text"
      },
      "source": [
        "### Precision-Recall Curve\n",
        "Use TensorBoard to plot the precision-recall curve:"
      ]
    },
    {
      "cell_type": "code",
      "metadata": {
        "id": "YCQDq6wCX_Bj",
        "colab_type": "code",
        "colab": {}
      },
      "source": [
        ""
      ],
      "execution_count": 0,
      "outputs": []
    },
    {
      "cell_type": "markdown",
      "metadata": {
        "id": "91R79ZZoX_B1",
        "colab_type": "text"
      },
      "source": [
        "### Display Model Errors\n",
        "A valuable practice is to review errors made by the model in the test set. These might reveal cases of bad preprocessing or lead to come up with improvements to your original model.\n",
        "\n",
        "Show 12 images of errors made by the model. For each, display the true and predicted classes, and the model confidence in its answer."
      ]
    },
    {
      "cell_type": "code",
      "metadata": {
        "id": "qEiq1ZIRX_B3",
        "colab_type": "code",
        "colab": {}
      },
      "source": [
        ""
      ],
      "execution_count": 0,
      "outputs": []
    },
    {
      "cell_type": "markdown",
      "metadata": {
        "id": "j9oGGhfXX_B6",
        "colab_type": "text"
      },
      "source": [
        "## Batch Normalization\n",
        "In this section, we'll add a Batch Norm layer to your network.  \n",
        "Use TensorBoard to compare the network's convergence (train and validation loss) with and without Batch Normalization."
      ]
    },
    {
      "cell_type": "code",
      "metadata": {
        "ExecuteTime": {
          "end_time": "2020-03-12T02:02:02.225508Z",
          "start_time": "2020-03-12T02:02:02.204005Z"
        },
        "id": "RlJGeqNVX_B7",
        "colab_type": "code",
        "colab": {}
      },
      "source": [
        ""
      ],
      "execution_count": 0,
      "outputs": []
    },
    {
      "cell_type": "markdown",
      "metadata": {
        "id": "MkakVSWRX_B_",
        "colab_type": "text"
      },
      "source": [
        "Use TensorBoard to plot the distribution of activations with and without Batch Normalization."
      ]
    },
    {
      "cell_type": "code",
      "metadata": {
        "id": "VW_zbAiTX_CA",
        "colab_type": "code",
        "colab": {}
      },
      "source": [
        ""
      ],
      "execution_count": 0,
      "outputs": []
    },
    {
      "cell_type": "code",
      "metadata": {
        "id": "2GIbnPLJX_CD",
        "colab_type": "code",
        "colab": {}
      },
      "source": [
        ""
      ],
      "execution_count": 0,
      "outputs": []
    },
    {
      "cell_type": "code",
      "metadata": {
        "id": "Mw3JsJ6AX_CJ",
        "colab_type": "code",
        "colab": {}
      },
      "source": [
        ""
      ],
      "execution_count": 0,
      "outputs": []
    },
    {
      "cell_type": "markdown",
      "metadata": {
        "id": "jDz6WiB3X_CQ",
        "colab_type": "text"
      },
      "source": [
        "## Data Augmentation\n",
        "Augmenting the data is a useful trick to increase the size of the training set and reduce the generalization error.  \n",
        "\n",
        "Useful resources: \n",
        "- [Explanation about augmentation](https://www.analyticsvidhya.com/blog/2019/12/image-augmentation-deep-learning-pytorch/)\n",
        "- The [torchvision transforms documentation](https://pytorch.org/docs/stable/torchvision/transforms.html)\n",
        "- The [albumentations](https://github.com/albumentations-team/albumentations) repo"
      ]
    },
    {
      "cell_type": "markdown",
      "metadata": {
        "id": "F-Xy4VnEX_CS",
        "colab_type": "text"
      },
      "source": [
        "Try to think which transformation can be useful for data augmentation for our task?"
      ]
    },
    {
      "cell_type": "code",
      "metadata": {
        "id": "dkkU8U_RX_CV",
        "colab_type": "code",
        "colab": {}
      },
      "source": [
        ""
      ],
      "execution_count": 0,
      "outputs": []
    },
    {
      "cell_type": "markdown",
      "metadata": {
        "id": "4CxGJ18_X_Ch",
        "colab_type": "text"
      },
      "source": [
        "Apply 1 or 2 basic transformations and check how they affect the network's performance:"
      ]
    },
    {
      "cell_type": "code",
      "metadata": {
        "id": "9zerRY1lX_Ci",
        "colab_type": "code",
        "colab": {}
      },
      "source": [
        ""
      ],
      "execution_count": 0,
      "outputs": []
    },
    {
      "cell_type": "markdown",
      "metadata": {
        "id": "6q1EWlEzX_Cl",
        "colab_type": "text"
      },
      "source": [
        "## Transfer learning using a NN pre-trained on ImageNet\n",
        "In this section, we will use a pretrained network and build a classifier using it to predict the labels of our task."
      ]
    },
    {
      "cell_type": "markdown",
      "metadata": {
        "id": "KaKJlAfhX_Cm",
        "colab_type": "text"
      },
      "source": [
        "You might find these resources useful:\n",
        "- https://pytorch.org/tutorials/beginner/transfer_learning_tutorial.html\n",
        "- https://towardsdatascience.com/transfer-learning-with-convolutional-neural-networks-in-pytorch-dd09190245ce\n",
        "- https://www.analyticsvidhya.com/blog/2019/10/how-to-master-transfer-learning-using-pytorch/\n",
        "- https://heartbeat.fritz.ai/transfer-learning-with-pytorch-cfcb69016c72"
      ]
    },
    {
      "cell_type": "markdown",
      "metadata": {
        "id": "4YZbczhtX_Co",
        "colab_type": "text"
      },
      "source": [
        "### Use a frozen pre-trained network\n",
        "Use a VGG-16 network, including its weights pretrained on ImageNet.  \n",
        "Use the pretrained network to obtain the distributed representation in the final layer (the one before the output softmax layer). Freeze the network weights, and add 2 fully connected layers on top of it to classify the images."
      ]
    },
    {
      "cell_type": "code",
      "metadata": {
        "id": "0ioKC7SEX_Cp",
        "colab_type": "code",
        "colab": {}
      },
      "source": [
        ""
      ],
      "execution_count": 0,
      "outputs": []
    },
    {
      "cell_type": "markdown",
      "metadata": {
        "id": "cnAb5DbuX_Ct",
        "colab_type": "text"
      },
      "source": [
        "### Fine tuning the weights\n",
        "In this section, we'll unfreeze the pre-trained weights of the network and allow them to change.  \n",
        "Be careful - when fine-tuning a network, there is a risk that our attempt to allow the network to adapt to the new domain will lead to a \"catastrophic forgetting\" of what it had previously learnt."
      ]
    },
    {
      "cell_type": "code",
      "metadata": {
        "id": "DbFIHWBjX_Cu",
        "colab_type": "code",
        "colab": {}
      },
      "source": [
        ""
      ],
      "execution_count": 0,
      "outputs": []
    },
    {
      "cell_type": "markdown",
      "metadata": {
        "id": "EiRtzh6pX_Cz",
        "colab_type": "text"
      },
      "source": [
        "## Suggested Resources\n",
        "1. A good explanation of the different losses - https://gombru.github.io/2019/04/03/ranking_loss/\n",
        "1. A repo with code implementing CNN classifiers, Siamese networks and Triplet loss with different selection regimes for the MNIST and Fashion-MNIST datasets - https://github.com/adambielski/siamese-triplet\n",
        "1. There are several resources online for the VGG-Face network (see https://www.robots.ox.ac.uk/~vgg/publications/2015/Parkhi15/parkhi15.pdf), that include pre-trained weights on a face recognition dataset. The weights are here - http://www.robots.ox.ac.uk/~vgg/software/vgg_face/, and PyTorch models are here - http://www.robots.ox.ac.uk/~albanie/pytorch-models.html, and you can also check out https://github.com/prlz77/vgg-face.pytorch and https://github.com/claudio-unipv/vggface-pytorch."
      ]
    }
  ]
}