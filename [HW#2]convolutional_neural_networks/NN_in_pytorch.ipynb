{
  "nbformat": 4,
  "nbformat_minor": 0,
  "metadata": {
    "kernelspec": {
      "display_name": "Python 3",
      "language": "python",
      "name": "python3"
    },
    "language_info": {
      "codemirror_mode": {
        "name": "ipython",
        "version": 3
      },
      "file_extension": ".py",
      "mimetype": "text/x-python",
      "name": "python",
      "nbconvert_exporter": "python",
      "pygments_lexer": "ipython3",
      "version": "3.7.3"
    },
    "colab": {
      "name": "NN_in_pytorch.ipynb",
      "provenance": []
    }
  },
  "cells": [
    {
      "cell_type": "markdown",
      "metadata": {
        "id": "eG8kOT69X-_f",
        "colab_type": "text"
      },
      "source": [
        "# Neural Network using PyTorch"
      ]
    },
    {
      "cell_type": "markdown",
      "metadata": {
        "id": "BupHlXPrX-_i",
        "colab_type": "text"
      },
      "source": [
        "In this exercise, you will build a neural network using PyTorch, and apply it to a dataset. Our goal in this exercise is not necessarily to obtain the best results on the dataset. We care more about understanding the different parameters, getting a hands-on experience training networks, and monitoring and debugging them. For this reason, I actually recommend that you don’t use a GPU, and run the code on your local machine, for simpler debugging.\n",
        "\n",
        "\n",
        "You can get relevant code snippets from [the PyTorch documentation](https://pytorch.org/tutorials/beginner/blitz/cifar10_tutorial.html) or other sources online. "
      ]
    },
    {
      "cell_type": "markdown",
      "metadata": {
        "id": "7-WlUyTLX-_j",
        "colab_type": "text"
      },
      "source": [
        "## Dataset\n",
        "We will use the CIFAR-10 dataset."
      ]
    },
    {
      "cell_type": "code",
      "metadata": {
        "ExecuteTime": {
          "end_time": "2020-03-12T03:22:05.577442Z",
          "start_time": "2020-03-12T03:22:04.944943Z"
        },
        "id": "MHYHos4TX-_k",
        "colab_type": "code",
        "colab": {}
      },
      "source": [
        "import torch\n",
        "import torchvision\n",
        "import torchvision.transforms as transforms\n",
        "%matplotlib inline"
      ],
      "execution_count": 0,
      "outputs": []
    },
    {
      "cell_type": "code",
      "metadata": {
        "ExecuteTime": {
          "end_time": "2020-03-12T03:22:07.447520Z",
          "start_time": "2020-03-12T03:22:05.580433Z"
        },
        "id": "BZbGibCRX-_p",
        "colab_type": "code",
        "colab": {},
        "outputId": "0e7c3b88-2203-43f4-d607-0deb5b4193e2"
      },
      "source": [
        "transform = transforms.Compose(\n",
        "    [transforms.ToTensor(),\n",
        "     transforms.Normalize((0.5, 0.5, 0.5), (0.5, 0.5, 0.5))])\n",
        "\n",
        "trainset = torchvision.datasets.CIFAR10(root='./data', train=True,\n",
        "                                        download=True, transform=transform)\n",
        "trainloader = torch.utils.data.DataLoader(trainset, batch_size=4,\n",
        "                                          shuffle=True, num_workers=2)\n",
        "\n",
        "testset = torchvision.datasets.CIFAR10(root='./data', train=False,\n",
        "                                       download=True, transform=transform)\n",
        "testloader = torch.utils.data.DataLoader(testset, batch_size=4,\n",
        "                                         shuffle=False, num_workers=2)\n",
        "\n",
        "classes = ('plane', 'car', 'bird', 'cat',\n",
        "           'deer', 'dog', 'frog', 'horse', 'ship', 'truck')"
      ],
      "execution_count": 0,
      "outputs": [
        {
          "output_type": "stream",
          "text": [
            "Files already downloaded and verified\n",
            "Files already downloaded and verified\n"
          ],
          "name": "stdout"
        }
      ]
    },
    {
      "cell_type": "markdown",
      "metadata": {
        "id": "573Jn2r3X-_0",
        "colab_type": "text"
      },
      "source": [
        "First, let's get to know the dataset. Plot a few examples of images and their labels:\n"
      ]
    },
    {
      "cell_type": "code",
      "metadata": {
        "ExecuteTime": {
          "end_time": "2020-03-12T03:22:13.183638Z",
          "start_time": "2020-03-12T03:22:10.191153Z"
        },
        "id": "kp-juMMdX-_2",
        "colab_type": "code",
        "colab": {},
        "outputId": "2156c27c-9435-4778-828f-c3080d8a90e1"
      },
      "source": [
        ""
      ],
      "execution_count": 0,
      "outputs": [
        {
          "output_type": "display_data",
          "data": {
            "image/png": "[encoded data removed]",
            "text/plain": [
              "<Figure size 432x288 with 1 Axes>"
            ]
          },
          "metadata": {
            "tags": [],
            "needs_background": "light"
          }
        },
        {
          "output_type": "stream",
          "text": [
            "horse truck   car  deer\n"
          ],
          "name": "stdout"
        }
      ]
    },
    {
      "cell_type": "markdown",
      "metadata": {
        "id": "llpA-VqDX-_9",
        "colab_type": "text"
      },
      "source": [
        "Display the distribution of images per label."
      ]
    },
    {
      "cell_type": "code",
      "metadata": {
        "ExecuteTime": {
          "end_time": "2020-03-12T03:22:13.668056Z",
          "start_time": "2020-03-12T03:22:13.185607Z"
        },
        "id": "kUaIVQWsX-__",
        "colab_type": "code",
        "colab": {},
        "outputId": "b218d55a-646b-4c72-abf0-3d8b898ac5fa"
      },
      "source": [
        ""
      ],
      "execution_count": 0,
      "outputs": [
        {
          "output_type": "execute_result",
          "data": {
            "text/plain": [
              "car      5000\n",
              "ship     5000\n",
              "frog     5000\n",
              "dog      5000\n",
              "bird     5000\n",
              "plane    5000\n",
              "cat      5000\n",
              "horse    5000\n",
              "deer     5000\n",
              "truck    5000\n",
              "dtype: int64"
            ]
          },
          "metadata": {
            "tags": []
          },
          "execution_count": 5
        }
      ]
    },
    {
      "cell_type": "markdown",
      "metadata": {
        "id": "ghQzVffxX_AH",
        "colab_type": "text"
      },
      "source": [
        "Is the data balanced? What effect is imbalanced data expected to have on your model's results? How can you work with imbalanced data?"
      ]
    },
    {
      "cell_type": "code",
      "metadata": {
        "id": "SLwTb0kYX_AI",
        "colab_type": "code",
        "colab": {}
      },
      "source": [
        ""
      ],
      "execution_count": 0,
      "outputs": []
    },
    {
      "cell_type": "markdown",
      "metadata": {
        "id": "Ebu1tr4bX_AN",
        "colab_type": "text"
      },
      "source": [
        "**NOTE:** It's a good practice when working on Neural Networks to start with a very small dataset and overfit on it. While we don't specifically ask you to do so in the sections below, we recommend that you take this approach, and first write and run your code using easy to use and debug platform, on a small dataset."
      ]
    },
    {
      "cell_type": "code",
      "metadata": {
        "id": "OQJKAJueX_AP",
        "colab_type": "code",
        "colab": {}
      },
      "source": [
        ""
      ],
      "execution_count": 0,
      "outputs": []
    },
    {
      "cell_type": "markdown",
      "metadata": {
        "id": "UGuFZO_IX_AZ",
        "colab_type": "text"
      },
      "source": [
        "## Build your own CNN classifier\n",
        "In this section, you will develop your own CNN classifier.\n",
        "\n",
        "This is meant as an opportunity to get more experience building your own NN architectures using PyTorch, and our focus is on making sure you rewrite and review the needed code and not on obtaining optimal performance. That being said, within the limits of the time you have, try to come up with a NN architecture and hyperparameters that would achieve nice results on the dataset.  \n",
        "We do recommend that you keep this to only 3-4 Conv layers and 1-2 fully connected layers."
      ]
    },
    {
      "cell_type": "markdown",
      "metadata": {
        "id": "D--MnM8xX_Ab",
        "colab_type": "text"
      },
      "source": [
        "If you want a starting point, you can create this network:\n",
        "\n",
        "```\n",
        "Net(\n",
        "  (conv1): Conv2d(3, 6, kernel_size=(5, 5), stride=(1, 1))\n",
        "  (pool): MaxPool2d(kernel_size=2, stride=2, padding=0, dilation=1, ceil_mode=False)\n",
        "  (conv2): Conv2d(6, 16, kernel_size=(5, 5), stride=(1, 1))\n",
        "  (fc1): Linear(in_features=400, out_features=120, bias=True)\n",
        "  (fc2): Linear(in_features=120, out_features=84, bias=True)\n",
        "  (fc3): Linear(in_features=84, out_features=10, bias=True)\n",
        ")\n",
        "```"
      ]
    },
    {
      "cell_type": "markdown",
      "metadata": {
        "id": "I0kQ5MPSX_Ac",
        "colab_type": "text"
      },
      "source": [
        "When training the network, use the Adam optimizer."
      ]
    },
    {
      "cell_type": "code",
      "metadata": {
        "ExecuteTime": {
          "end_time": "2020-03-12T03:22:14.105625Z",
          "start_time": "2020-03-12T03:22:14.096637Z"
        },
        "id": "DxfphSv3X_Af",
        "colab_type": "code",
        "colab": {}
      },
      "source": [
        ""
      ],
      "execution_count": 0,
      "outputs": []
    },
    {
      "cell_type": "code",
      "metadata": {
        "ExecuteTime": {
          "end_time": "2020-03-12T03:22:14.719122Z",
          "start_time": "2020-03-12T03:22:14.715095Z"
        },
        "id": "6VfROok-X_Ar",
        "colab_type": "code",
        "colab": {}
      },
      "source": [
        ""
      ],
      "execution_count": 0,
      "outputs": []
    },
    {
      "cell_type": "markdown",
      "metadata": {
        "id": "robhUyZpX_Aw",
        "colab_type": "text"
      },
      "source": [
        "## Tensorboard\n",
        "TensorBoard provides visualization and tooling for machine learning experimentation:\n",
        "- Tracking and visualizing metrics such as loss and accuracy\n",
        "- Visualizing the model graph (ops and layers)\n",
        "- Viewing histograms of weights, biases, or other tensors as they change over time\n",
        "- Projecting embeddings to a lower dimensional space\n",
        "- Displaying images, text, and audio data\n",
        "- Profiling programs\n",
        "\n",
        "Tensorboard worked originally with Tensorflow but can now be used with PyTorch as well.  \n",
        "You can embed a tensorboard widget in a Jupyter Notebook, although if you're not using Google Colab we recommend that you open tensorboard separately."
      ]
    },
    {
      "cell_type": "markdown",
      "metadata": {
        "id": "npxxePhjX_Ay",
        "colab_type": "text"
      },
      "source": [
        "To get started with Tensorboard, please read the following pages:\n",
        "\n",
        "PyTorch related:\n",
        "1. https://pytorch.org/tutorials/intermediate/tensorboard_tutorial.html\n",
        "1. https://becominghuman.ai/logging-in-tensorboard-with-pytorch-or-any-other-library-c549163dee9e\n",
        "1. https://towardsdatascience.com/https-medium-com-dinber19-take-a-deeper-look-at-your-pytorch-model-with-the-new-tensorboard-built-in-513969cf6a72\n",
        "1. https://pytorch.org/docs/stable/tensorboard.html\n",
        "1. https://github.com/yunjey/pytorch-tutorial/tree/master/tutorials/04-utils/tensorboard\n",
        "\n",
        "Tensorflow related:\n",
        "1. https://itnext.io/how-to-use-tensorboard-5d82f8654496\n",
        "1. https://www.datacamp.com/community/tutorials/tensorboard-tutorial\n",
        "1. https://medium.com/@anthony_sarkis/tensorboard-quick-start-in-5-minutes-e3ec69f673af\n",
        "1. https://www.guru99.com/tensorboard-tutorial.html\n",
        "1. https://www.youtube.com/watch?time_continue=1&v=s-lHP8v9qzY&feature=emb_logo\n",
        "1. https://www.youtube.com/watch?v=pSexXMdruFM\n"
      ]
    },
    {
      "cell_type": "markdown",
      "metadata": {
        "id": "Uh8UW3cDX_A1",
        "colab_type": "text"
      },
      "source": [
        "### Starting Tensorboard\n",
        "Jupyter Notebook has extensions for displaying TensorBoard inside the notebook. Still, I recommend that you run it separately, as it tends to get stuck in notebooks.\n",
        "\n",
        "The syntax to load TensorBoard in a notebook is this:\n",
        "```python\n",
        "# Load the TensorBoard notebook extension\n",
        "%load_ext tensorboard\n",
        "%tensorboard --logdir ./logs\n",
        "```"
      ]
    },
    {
      "cell_type": "markdown",
      "metadata": {
        "id": "qtfO42DuX_A2",
        "colab_type": "text"
      },
      "source": [
        "In the shell, you can instead run:\n",
        "```\n",
        "tensorboard --logdir ./logs\n",
        "```"
      ]
    },
    {
      "cell_type": "code",
      "metadata": {
        "ExecuteTime": {
          "end_time": "2020-03-12T03:22:21.503129Z",
          "start_time": "2020-03-12T03:22:18.807319Z"
        },
        "id": "J43PQOI0X_A3",
        "colab_type": "code",
        "colab": {}
      },
      "source": [
        ""
      ],
      "execution_count": 0,
      "outputs": []
    },
    {
      "cell_type": "markdown",
      "metadata": {
        "id": "yE-8NyKRX_A7",
        "colab_type": "text"
      },
      "source": [
        "### Show images using TensorBoard"
      ]
    },
    {
      "cell_type": "code",
      "metadata": {
        "ExecuteTime": {
          "end_time": "2020-03-12T03:22:25.305404Z",
          "start_time": "2020-03-12T03:22:22.367810Z"
        },
        "id": "CBN6TWT2X_A8",
        "colab_type": "code",
        "colab": {}
      },
      "source": [
        ""
      ],
      "execution_count": 0,
      "outputs": []
    },
    {
      "cell_type": "markdown",
      "metadata": {
        "id": "763K_iP5X_A_",
        "colab_type": "text"
      },
      "source": [
        "### Inspect the model graph\n",
        "You can print a network object to find useful information about it:"
      ]
    },
    {
      "cell_type": "code",
      "metadata": {
        "ExecuteTime": {
          "end_time": "2020-03-12T03:39:13.437035Z",
          "start_time": "2020-03-12T03:39:13.433000Z"
        },
        "id": "xh6omz2dX_BA",
        "colab_type": "code",
        "colab": {}
      },
      "source": [
        "print(net)"
      ],
      "execution_count": 0,
      "outputs": []
    },
    {
      "cell_type": "markdown",
      "metadata": {
        "id": "5MmKPL2RX_BI",
        "colab_type": "text"
      },
      "source": [
        "TensorBoard can help visualize the network graph. It takes practice to read these.  \n",
        "\n",
        "Write the graph to TensorBoard and review it."
      ]
    },
    {
      "cell_type": "code",
      "metadata": {
        "ExecuteTime": {
          "end_time": "2020-03-12T03:22:27.132650Z",
          "start_time": "2020-03-12T03:22:27.080267Z"
        },
        "id": "M3f0VHKKX_BK",
        "colab_type": "code",
        "colab": {}
      },
      "source": [
        ""
      ],
      "execution_count": 0,
      "outputs": []
    },
    {
      "cell_type": "markdown",
      "metadata": {
        "id": "5UcxdV1BX_BQ",
        "colab_type": "text"
      },
      "source": [
        "You can also use the package `torchsummary` for a fuller info on the model:"
      ]
    },
    {
      "cell_type": "code",
      "metadata": {
        "ExecuteTime": {
          "end_time": "2020-03-12T03:39:34.927085Z",
          "start_time": "2020-03-12T03:39:30.883979Z"
        },
        "id": "7K0r3-LgX_BR",
        "colab_type": "code",
        "colab": {},
        "outputId": "484ad426-6305-4dbe-d0dd-1b89ea90c872"
      },
      "source": [
        "!pip install torchsummary"
      ],
      "execution_count": 0,
      "outputs": [
        {
          "output_type": "stream",
          "text": [
            "Collecting torchsummary\n",
            "  Downloading https://files.pythonhosted.org/packages/7d/18/1474d06f721b86e6a9b9d7392ad68bed711a02f3b61ac43f13c719db50a6/torchsummary-1.5.1-py3-none-any.whl\n",
            "Installing collected packages: torchsummary\n",
            "Successfully installed torchsummary-1.5.1\n"
          ],
          "name": "stdout"
        }
      ]
    },
    {
      "cell_type": "code",
      "metadata": {
        "ExecuteTime": {
          "end_time": "2020-03-12T03:40:32.330002Z",
          "start_time": "2020-03-12T03:40:32.304145Z"
        },
        "id": "915iWYS-X_BZ",
        "colab_type": "code",
        "colab": {}
      },
      "source": [
        "channels=3; H=32; W=32\n",
        "from torchsummary import summary\n",
        "summary(net, input_size=(channels, H, W))"
      ],
      "execution_count": 0,
      "outputs": []
    },
    {
      "cell_type": "markdown",
      "metadata": {
        "id": "N93kZXGgX_Bc",
        "colab_type": "text"
      },
      "source": [
        "## Train the network\n",
        "Next, we'll train the network. In the training loop, log relevant metrics that would allow you to plot in TensorBoard:"
      ]
    },
    {
      "cell_type": "markdown",
      "metadata": {
        "id": "I7b5fBzpX_Bd",
        "colab_type": "text"
      },
      "source": [
        "1. The network loss\n",
        "1. Train and test error\n",
        "1. Average weight in the first layer\n",
        "1. Histogram of weights in the first layer"
      ]
    },
    {
      "cell_type": "code",
      "metadata": {
        "ExecuteTime": {
          "end_time": "2020-03-12T02:25:56.483936Z",
          "start_time": "2020-03-12T02:17:35.780050Z"
        },
        "id": "r1j3bbrWX_Be",
        "colab_type": "code",
        "colab": {}
      },
      "source": [
        ""
      ],
      "execution_count": 0,
      "outputs": []
    },
    {
      "cell_type": "markdown",
      "metadata": {
        "id": "GUXarpO0X_Bi",
        "colab_type": "text"
      },
      "source": [
        "### Precision-Recall Curve\n",
        "Use TensorBoard to plot the precision-recall curve:"
      ]
    },
    {
      "cell_type": "code",
      "metadata": {
        "id": "YCQDq6wCX_Bj",
        "colab_type": "code",
        "colab": {}
      },
      "source": [
        ""
      ],
      "execution_count": 0,
      "outputs": []
    },
    {
      "cell_type": "markdown",
      "metadata": {
        "id": "91R79ZZoX_B1",
        "colab_type": "text"
      },
      "source": [
        "### Display Model Errors\n",
        "A valuable practice is to review errors made by the model in the test set. These might reveal cases of bad preprocessing or lead to come up with improvements to your original model.\n",
        "\n",
        "Show 12 images of errors made by the model. For each, display the true and predicted classes, and the model confidence in its answer."
      ]
    },
    {
      "cell_type": "code",
      "metadata": {
        "id": "qEiq1ZIRX_B3",
        "colab_type": "code",
        "colab": {}
      },
      "source": [
        ""
      ],
      "execution_count": 0,
      "outputs": []
    },
    {
      "cell_type": "markdown",
      "metadata": {
        "id": "j9oGGhfXX_B6",
        "colab_type": "text"
      },
      "source": [
        "## Batch Normalization\n",
        "In this section, we'll add a Batch Norm layer to your network.  \n",
        "Use TensorBoard to compare the network's convergence (train and validation loss) with and without Batch Normalization."
      ]
    },
    {
      "cell_type": "code",
      "metadata": {
        "ExecuteTime": {
          "end_time": "2020-03-12T02:02:02.225508Z",
          "start_time": "2020-03-12T02:02:02.204005Z"
        },
        "id": "RlJGeqNVX_B7",
        "colab_type": "code",
        "colab": {}
      },
      "source": [
        ""
      ],
      "execution_count": 0,
      "outputs": []
    },
    {
      "cell_type": "markdown",
      "metadata": {
        "id": "MkakVSWRX_B_",
        "colab_type": "text"
      },
      "source": [
        "Use TensorBoard to plot the distribution of activations with and without Batch Normalization."
      ]
    },
    {
      "cell_type": "code",
      "metadata": {
        "id": "VW_zbAiTX_CA",
        "colab_type": "code",
        "colab": {}
      },
      "source": [
        ""
      ],
      "execution_count": 0,
      "outputs": []
    },
    {
      "cell_type": "code",
      "metadata": {
        "id": "2GIbnPLJX_CD",
        "colab_type": "code",
        "colab": {}
      },
      "source": [
        ""
      ],
      "execution_count": 0,
      "outputs": []
    },
    {
      "cell_type": "code",
      "metadata": {
        "id": "Mw3JsJ6AX_CJ",
        "colab_type": "code",
        "colab": {}
      },
      "source": [
        ""
      ],
      "execution_count": 0,
      "outputs": []
    },
    {
      "cell_type": "markdown",
      "metadata": {
        "id": "jDz6WiB3X_CQ",
        "colab_type": "text"
      },
      "source": [
        "## Data Augmentation\n",
        "Augmenting the data is a useful trick to increase the size of the training set and reduce the generalization error.  \n",
        "\n",
        "Useful resources: \n",
        "- [Explanation about augmentation](https://www.analyticsvidhya.com/blog/2019/12/image-augmentation-deep-learning-pytorch/)\n",
        "- The [torchvision transforms documentation](https://pytorch.org/docs/stable/torchvision/transforms.html)\n",
        "- The [albumentations](https://github.com/albumentations-team/albumentations) repo"
      ]
    },
    {
      "cell_type": "markdown",
      "metadata": {
        "id": "F-Xy4VnEX_CS",
        "colab_type": "text"
      },
      "source": [
        "Try to think which transformation can be useful for data augmentation for our task?"
      ]
    },
    {
      "cell_type": "code",
      "metadata": {
        "id": "dkkU8U_RX_CV",
        "colab_type": "code",
        "colab": {}
      },
      "source": [
        ""
      ],
      "execution_count": 0,
      "outputs": []
    },
    {
      "cell_type": "markdown",
      "metadata": {
        "id": "4CxGJ18_X_Ch",
        "colab_type": "text"
      },
      "source": [
        "Apply 1 or 2 basic transformations and check how they affect the network's performance:"
      ]
    },
    {
      "cell_type": "code",
      "metadata": {
        "id": "9zerRY1lX_Ci",
        "colab_type": "code",
        "colab": {}
      },
      "source": [
        ""
      ],
      "execution_count": 0,
      "outputs": []
    },
    {
      "cell_type": "markdown",
      "metadata": {
        "id": "6q1EWlEzX_Cl",
        "colab_type": "text"
      },
      "source": [
        "## Transfer learning using a NN pre-trained on ImageNet\n",
        "In this section, we will use a pretrained network and build a classifier using it to predict the labels of our task."
      ]
    },
    {
      "cell_type": "markdown",
      "metadata": {
        "id": "KaKJlAfhX_Cm",
        "colab_type": "text"
      },
      "source": [
        "You might find these resources useful:\n",
        "- https://pytorch.org/tutorials/beginner/transfer_learning_tutorial.html\n",
        "- https://towardsdatascience.com/transfer-learning-with-convolutional-neural-networks-in-pytorch-dd09190245ce\n",
        "- https://www.analyticsvidhya.com/blog/2019/10/how-to-master-transfer-learning-using-pytorch/\n",
        "- https://heartbeat.fritz.ai/transfer-learning-with-pytorch-cfcb69016c72"
      ]
    },
    {
      "cell_type": "markdown",
      "metadata": {
        "id": "4YZbczhtX_Co",
        "colab_type": "text"
      },
      "source": [
        "### Use a frozen pre-trained network\n",
        "Use a VGG-16 network, including its weights pretrained on ImageNet.  \n",
        "Use the pretrained network to obtain the distributed representation in the final layer (the one before the output softmax layer). Freeze the network weights, and add 2 fully connected layers on top of it to classify the images."
      ]
    },
    {
      "cell_type": "code",
      "metadata": {
        "id": "0ioKC7SEX_Cp",
        "colab_type": "code",
        "colab": {}
      },
      "source": [
        ""
      ],
      "execution_count": 0,
      "outputs": []
    },
    {
      "cell_type": "markdown",
      "metadata": {
        "id": "cnAb5DbuX_Ct",
        "colab_type": "text"
      },
      "source": [
        "### Fine tuning the weights\n",
        "In this section, we'll unfreeze the pre-trained weights of the network and allow them to change.  \n",
        "Be careful - when fine-tuning a network, there is a risk that our attempt to allow the network to adapt to the new domain will lead to a \"catastrophic forgetting\" of what it had previously learnt."
      ]
    },
    {
      "cell_type": "code",
      "metadata": {
        "id": "DbFIHWBjX_Cu",
        "colab_type": "code",
        "colab": {}
      },
      "source": [
        ""
      ],
      "execution_count": 0,
      "outputs": []
    },
    {
      "cell_type": "markdown",
      "metadata": {
        "id": "EiRtzh6pX_Cz",
        "colab_type": "text"
      },
      "source": [
        "## Suggested Resources\n",
        "1. A good explanation of the different losses - https://gombru.github.io/2019/04/03/ranking_loss/\n",
        "1. A repo with code implementing CNN classifiers, Siamese networks and Triplet loss with different selection regimes for the MNIST and Fashion-MNIST datasets - https://github.com/adambielski/siamese-triplet\n",
        "1. There are several resources online for the VGG-Face network (see https://www.robots.ox.ac.uk/~vgg/publications/2015/Parkhi15/parkhi15.pdf), that include pre-trained weights on a face recognition dataset. The weights are here - http://www.robots.ox.ac.uk/~vgg/software/vgg_face/, and PyTorch models are here - http://www.robots.ox.ac.uk/~albanie/pytorch-models.html, and you can also check out https://github.com/prlz77/vgg-face.pytorch and https://github.com/claudio-unipv/vggface-pytorch."
      ]
    }
  ]
}